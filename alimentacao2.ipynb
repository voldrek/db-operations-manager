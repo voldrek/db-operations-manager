{
 "cells": [
  {
   "cell_type": "code",
   "execution_count": 85,
   "metadata": {},
   "outputs": [],
   "source": [
    "import psycopg2\n",
    "from faker import Faker\n",
    "import random\n",
    "\n",
    "# Inicializar o Faker para gerar nomes falsos\n",
    "fake = Faker('pt-br') # 'pt_BR'"
   ]
  },
  {
   "cell_type": "code",
   "execution_count": 86,
   "metadata": {},
   "outputs": [],
   "source": [
    "def conectar_banco():\n",
    "    conn = psycopg2.connect(\n",
    "        dbname=\"MIS_Report_db\",  # Substitua pelo nome do seu banco de dados\n",
    "        user=\"postgres\",          # Substitua pelo seu usuário\n",
    "        password=\"153216\",        # Substitua pela sua senha\n",
    "        host=\"localhost\",         # Substitua pelo host, se necessário\n",
    "        port=\"5432\",              # Substitua pela porta, se necessário\n",
    "        client_encoding='UTF-8'    # Força a codificação UTF-8\n",
    "    )\n",
    "    return conn"
   ]
  },
  {
   "cell_type": "code",
   "execution_count": 87,
   "metadata": {},
   "outputs": [],
   "source": [
    "def inserir_departamento(nome, orcamento):\n",
    "    conn = conectar_banco()\n",
    "    cursor = conn.cursor()\n",
    "    query = \"INSERT INTO departamentos (nome, orcamento) VALUES (%s, %s)\"\n",
    "    cursor.execute(query, (nome, orcamento))\n",
    "    conn.commit()\n",
    "    cursor.close()\n",
    "    conn.close()"
   ]
  },
  {
   "cell_type": "code",
   "execution_count": 88,
   "metadata": {},
   "outputs": [],
   "source": [
    "#inserir_departamento(\"Vendas\", 500000.00)\n",
    "#inserir_departamento(\"TI\", 1000000.00)\n",
    "#inserir_departamento(\"RH\", 300000.00)"
   ]
  },
  {
   "cell_type": "code",
   "execution_count": null,
   "metadata": {},
   "outputs": [],
   "source": []
  }
 ],
 "metadata": {
  "kernelspec": {
   "display_name": "venv",
   "language": "python",
   "name": "python3"
  },
  "language_info": {
   "codemirror_mode": {
    "name": "ipython",
    "version": 3
   },
   "file_extension": ".py",
   "mimetype": "text/x-python",
   "name": "python",
   "nbconvert_exporter": "python",
   "pygments_lexer": "ipython3",
   "version": "3.13.1"
  }
 },
 "nbformat": 4,
 "nbformat_minor": 2
}
